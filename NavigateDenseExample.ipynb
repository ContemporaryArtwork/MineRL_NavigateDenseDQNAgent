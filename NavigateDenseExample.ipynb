{
 "cells": [
  {
   "cell_type": "code",
   "execution_count": 2,
   "metadata": {},
   "outputs": [],
   "source": [
    "#\n",
    "# From https://minerl.io/docs/environments/index.html#id9\n",
    "#\n",
    "import gym\n",
    "import minerl"
   ]
  },
  {
   "cell_type": "code",
   "execution_count": 3,
   "metadata": {},
   "outputs": [
    {
     "name": "stderr",
     "output_type": "stream",
     "text": [
      "As of MineRL 0.3.0 automatic hash checking has been disabled.\n",
      "Download: https://minerl.s3.amazonaws.com/v3/MineRLNavigateDense-v0.tar: 100%|▉| 633.0/633.56928 [00:26<00:00, 28.68MB/"
     ]
    },
    {
     "data": {
      "text/plain": [
       "'./experiments'"
      ]
     },
     "execution_count": 3,
     "metadata": {},
     "output_type": "execute_result"
    },
    {
     "name": "stderr",
     "output_type": "stream",
     "text": [
      "D:\\Programs\\Conda\\envs\\coolenv\\lib\\site-packages\\tqdm\\std.py:527: TqdmWarning: clamping frac to range [0, 1]\n",
      "  colour=colour)\n",
      "\r",
      "Download: https://minerl.s3.amazonaws.com/v3/MineRLNavigateDense-v0.tar: 100%|█| 634.0/633.56928 [00:39<00:00, 28.68MB/"
     ]
    }
   ],
   "source": [
    "minerl.data.download('./experiments',experiment='MineRLNavigateDense-v0')"
   ]
  },
  {
   "cell_type": "code",
   "execution_count": null,
   "metadata": {},
   "outputs": [],
   "source": [
    "env = gym.make(\"MineRLNavigateDense-v0\") # A MineRLNavigateDense-v0 env"
   ]
  },
  {
   "cell_type": "code",
   "execution_count": null,
   "metadata": {},
   "outputs": [],
   "source": [
    "# Run a random agent through the environment\n",
    "obs = env.reset()\n",
    "done = False\n",
    "\n",
    "while not done:\n",
    "    # Take a no-op through the environment.\n",
    "    obs, rew, done, _ = env.step(env.action_space.noop())\n",
    "    print(rew)\n",
    "    # Do something"
   ]
  },
  {
   "cell_type": "code",
   "execution_count": 10,
   "metadata": {},
   "outputs": [
    {
     "name": "stdout",
     "output_type": "stream",
     "text": [
      "<minerl.data.data_pipeline.DataPipeline object at 0x000002C46FA91A48>\n"
     ]
    }
   ],
   "source": [
    "# Sample some data from the dataset!\n",
    "data = minerl.data.make(\"MineRLNavigateDense-v0\")"
   ]
  },
  {
   "cell_type": "code",
   "execution_count": null,
   "metadata": {},
   "outputs": [],
   "source": [
    "# Iterate through a single epoch using sequences of at most 32 steps\n",
    "for current_state, action, reward, next_state, done in data.batch_iter(num_epochs=1, batch_size=1, seq_len=32):\n",
    "    print(reward)"
   ]
  },
  {
   "cell_type": "code",
   "execution_count": null,
   "metadata": {},
   "outputs": [],
   "source": []
  }
 ],
 "metadata": {
  "kernelspec": {
   "display_name": "Python [conda env:coolenv] *",
   "language": "python",
   "name": "conda-env-coolenv-py"
  },
  "language_info": {
   "codemirror_mode": {
    "name": "ipython",
    "version": 3
   },
   "file_extension": ".py",
   "mimetype": "text/x-python",
   "name": "python",
   "nbconvert_exporter": "python",
   "pygments_lexer": "ipython3",
   "version": "3.7.9"
  }
 },
 "nbformat": 4,
 "nbformat_minor": 4
}
