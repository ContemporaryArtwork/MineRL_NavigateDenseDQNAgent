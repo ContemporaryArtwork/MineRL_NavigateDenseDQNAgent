{
 "cells": [
  {
   "cell_type": "code",
   "execution_count": 5,
   "metadata": {},
   "outputs": [],
   "source": [
    "#\n",
    "# From https://minerl.io/docs/environments/index.html#id9\n",
    "#\n",
    "import gym\n",
    "from gym import spaces\n",
    "import minerl\n",
    "import logging\n",
    "import numpy as np\n",
    "import collections\n",
    "import torch\n",
    "from itertools import chain"
   ]
  },
  {
   "cell_type": "code",
   "execution_count": 166,
   "metadata": {},
   "outputs": [],
   "source": [
    "device = torch.device(\"cpu\")"
   ]
  },
  {
   "cell_type": "code",
   "execution_count": 19,
   "metadata": {},
   "outputs": [
    {
     "name": "stderr",
     "output_type": "stream",
     "text": [
      "./experiments\\MineRLNavigateDense-v0 exists - skipping re-download!\n"
     ]
    },
    {
     "data": {
      "text/plain": [
       "'./experiments'"
      ]
     },
     "execution_count": 19,
     "metadata": {},
     "output_type": "execute_result"
    }
   ],
   "source": [
    "minerl.data.download('./experiments',experiment='MineRLNavigateDense-v0')"
   ]
  },
  {
   "cell_type": "code",
   "execution_count": null,
   "metadata": {},
   "outputs": [],
   "source": [
    "env = gym.make(\"MineRLNavigateDense-v0\") # A MineRLNavigateDense-v0 env"
   ]
  },
  {
   "cell_type": "code",
   "execution_count": null,
   "metadata": {},
   "outputs": [],
   "source": [
    "%run CameraConverter.ipynb\n",
    "%run DQNAgent.ipynb\n",
    "cc = CameraConverter()\n",
    "modified_action_space = spaces.Dict({\n",
    "    \"attack\": spaces.Discrete(2),\n",
    "    \"back\": spaces.Discrete(2),\n",
    "    \"forward\": spaces.Discrete(2),\n",
    "    \"jump\": spaces.Discrete(2),\n",
    "    \"left\": spaces.Discrete(2),\n",
    "    \"right\": spaces.Discrete(2),\n",
    "    \"sneak\": spaces.Discrete(2),\n",
    "    \"sprint\": spaces.Discrete(2),\n",
    "    \"camera\": cc.discrete_space\n",
    "})\n",
    "\n",
    "agent_config = {\n",
    "    \"EPS\": .99,\n",
    "    \"EPS_DECAY\": .995,\n",
    "    \"GAMMA\": 1,\n",
    "    \"MEMORY_CAPACITY\": 100000,\n",
    "    \"MEMORY_ALPHA\": .7,\n",
    "    \"MEMORY_BETA\": .4,\n",
    "    \"MEMORY_EPSILON\": .001,\n",
    "    \"BATCH_SIZE\": 64\n",
    "}\n",
    "agent = DQNAgent(env.observation_space, modified_action_space, agent_config)"
   ]
  },
  {
   "cell_type": "code",
   "execution_count": null,
   "metadata": {},
   "outputs": [],
   "source": [
    "# Run a random agent through the environment\n",
    "def train(env, agent, config):\n",
    "    \n",
    "    num_episodes = config[\"NUM_EPISODES\"]\n",
    "    episodic_rewards = [0] * num_episodes\n",
    "    episodic_epsilon = [0] * num_episodes\n",
    "    episodic_moves = [0] * num_episodes\n",
    "    \n",
    "    for episode in range(num_episodes):\n",
    "        obs = env.reset()\n",
    "        done = False\n",
    "        net_reward = 0\n",
    "        steps = 0\n",
    "        pov = obs[\"pov\"].reshape(3,64,64)\n",
    "        while not done:\n",
    "            pov_tensor = torch.from_numpy(obs[\"pov\"].reshape(3,64,64)).float().to(device).unsqueeze(0)\n",
    "            compass = torch.from_numpy(obs['compassAngle']).float().to(device).unsqueeze(0)\n",
    "            \n",
    "            action = agent.step(pov_tensor,compass)\n",
    "    \n",
    "            env_action = action.copy()\n",
    "            #env_action['camera'] = [0,0.03*obs['compassAngle']]\n",
    "            env_action[\"camera\"] = cc.discrete_to_box(action[\"camera\"])\n",
    "    \n",
    "            steps = steps + 1\n",
    "            obs, reward, done, info = env.step(env_action)\n",
    "    \n",
    "            next_pov = obs[\"pov\"].reshape(3,64,64)\n",
    "            if done:\n",
    "                next_pov_tensor = None\n",
    "                break;\n",
    "            else:\n",
    "                next_pov_tensor = torch.from_numpy(next_pov).float().to(device).unsqueeze(0)\n",
    "    \n",
    "            flat_actions = np.hstack(list(action.values()))\n",
    "            #print(flat_actions)\n",
    "            camera_flat = np.hstack(list(flat_actions[2].values()))\n",
    "            flat_actions = np.delete(flat_actions, 2)\n",
    "            flat_actions = np.insert(flat_actions, 2, camera_flat).astype(int)\n",
    "    \n",
    "            action_tensor = torch.from_numpy(flat_actions).to(device).float().unsqueeze(0)\n",
    "            reward_tensor = torch.tensor([reward], device=device)\n",
    "            \n",
    "            \n",
    "            next_compass = torch.from_numpy(obs['compassAngle']).float().to(device).unsqueeze(0)\n",
    "            \n",
    "            \n",
    "            agent.memory.store_transition(Transition(next_pov_tensor,compass, action_tensor, next_pov_tensor,next_compass, reward_tensor))\n",
    "            if steps % config[\"EVAL_INTERVAL\"] == 0:\n",
    "                    agent.evaluate(next_pov_tensor,compass, action, next_pov_tensor,next_compass, reward)\n",
    "            pov = next_pov     \n",
    "            episodic_rewards[episode] += reward\n",
    "            episodic_moves[episode] += 1\n",
    "    \n",
    "        if episode % config[\"SYNC_INTERVAL\"] == 0:\n",
    "            agent.agent_sync_networks()\n",
    "        episodic_epsilon[episode] = agent.epsilon\n",
    "        agent.decay_epsilon()\n",
    "        print(episode)\n",
    "        print(episodic_rewards[episode])\n",
    "    return episodic_rewards, episodic_epsilon, episodic_moves        \n",
    "     \n",
    "    # Do something"
   ]
  },
  {
   "cell_type": "code",
   "execution_count": 177,
   "metadata": {},
   "outputs": [
    {
     "name": "stdout",
     "output_type": "stream",
     "text": [
      "0\n",
      "1\n",
      "2\n",
      "3\n",
      "4\n"
     ]
    }
   ],
   "source": [
    "train_config = {\n",
    "    \"EVAL_INTERVAL\": 10,\n",
    "    \"SYNC_INTERVAL\": 5,\n",
    "    \"NUM_EPISODES\": 20\n",
    "}\n",
    "rew, ep, moves = train(env, agent, train_config)"
   ]
  },
  {
   "cell_type": "code",
   "execution_count": 179,
   "metadata": {},
   "outputs": [
    {
     "name": "stdout",
     "output_type": "stream",
     "text": [
      "Failed to delete the temporary minecraft directory.\n"
     ]
    }
   ],
   "source": [
    "env.close()"
   ]
  },
  {
   "cell_type": "code",
   "execution_count": 178,
   "metadata": {},
   "outputs": [
    {
     "data": {
      "image/png": "[encoded data removed]",
      "text/plain": [
       "<Figure size 432x288 with 1 Axes>"
      ]
     },
     "metadata": {
      "needs_background": "light"
     },
     "output_type": "display_data"
    }
   ],
   "source": [
    "import matplotlib.pyplot as plt\n",
    "plt.plot(rew)\n",
    "plt.show()"
   ]
  },
  {
   "cell_type": "code",
   "execution_count": null,
   "metadata": {},
   "outputs": [],
   "source": [
    "# Sample some data from the dataset!\n",
    "data = minerl.data.make(\"MineRLNavigateDense-v0\")"
   ]
  },
  {
   "cell_type": "code",
   "execution_count": null,
   "metadata": {},
   "outputs": [],
   "source": [
    "# Iterate through a single epoch using sequences of at most 32 steps\n",
    "for current_state, action, reward, next_state, done in data.batch_iter(num_epochs=1, batch_size=1, seq_len=32):\n",
    "    print(current_state)\n",
    "    break"
   ]
  }
 ],
 "metadata": {
  "kernelspec": {
   "display_name": "Python 3",
   "language": "python",
   "name": "python3"
  },
  "language_info": {
   "codemirror_mode": {
    "name": "ipython",
    "version": 3
   },
   "file_extension": ".py",
   "mimetype": "text/x-python",
   "name": "python",
   "nbconvert_exporter": "python",
   "pygments_lexer": "ipython3",
   "version": "3.7.9"
  }
 },
 "nbformat": 4,
 "nbformat_minor": 4
}
