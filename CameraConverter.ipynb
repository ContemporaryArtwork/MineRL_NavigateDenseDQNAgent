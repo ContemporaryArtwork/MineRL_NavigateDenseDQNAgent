{
 "cells": [
  {
   "cell_type": "code",
   "execution_count": 5,
   "metadata": {},
   "outputs": [],
   "source": [
    "import gym\n",
    "from gym import spaces"
   ]
  },
  {
   "cell_type": "code",
   "execution_count": 8,
   "metadata": {},
   "outputs": [],
   "source": [
    "class CameraConverter:\n",
    "    def __init__(self, delta_degrees):\n",
    "        self.box_space = spaces.Box(low=-180.0, high=180.0, shape=(2,))\n",
    "        self.discrete_space = spaces.Dict({\n",
    "            'look_up': spaces.Discrete(2),\n",
    "            'look_down': spaces.Discrete(2),\n",
    "            'look_right': spaces.Discrete(2),\n",
    "            'look_left': spaces.Discrete(2)\n",
    "        })\n",
    "        self.delta_degrees = delta_degrees\n",
    "        assert(abs(self.delta_degrees) <= 180)\n",
    "    \n",
    "    def box_to_discrete(self, box_sample):\n",
    "        ret_dict = {\n",
    "            'look_up': 1 if box_sample[0] > 0 else 0,\n",
    "            'look_down': 1 if box_sample[0] < 0 else 0,\n",
    "            'look_right': 1 if box_sample[1] > 0 else 0,\n",
    "            'look_left': 1 if box_sample[1] < 0 else 0\n",
    "        }\n",
    "        \n",
    "        assert(self.discrete_space.contains(ret_dict))\n",
    "        \n",
    "        return ret_dict\n",
    "    \n",
    "    def discrete_to_box(self, discrete_sample):\n",
    "        \n",
    "        \"\"\"\n",
    "        if(discrete_sample['look_up'] == 1):\n",
    "            pitch = self.delta_degrees\n",
    "        elif(discrete_sample['look_down']):\n",
    "            pitch = -self.delta_degrees\n",
    "        else:\n",
    "            pitch = 0\n",
    "            \n",
    "        if(discrete_sample['look_right'] == 1):\n",
    "            yaw = self.delta_degrees\n",
    "        elif(discrete_sample['look_left']):\n",
    "            yaw = -self.delta_degrees\n",
    "        else:\n",
    "            yaw = 0\n",
    "            \n",
    "        ret_arr = np.array([pitch, yaw])    \n",
    "        \n",
    "        assert(self.box_space.contains(ret_arr))\n",
    "        \"\"\"\n",
    "        \n",
    "        return ret_arr"
   ]
  },
  {
   "cell_type": "code",
   "execution_count": null,
   "metadata": {},
   "outputs": [],
   "source": []
  }
 ],
 "metadata": {
  "kernelspec": {
   "display_name": "Python 3",
   "language": "python",
   "name": "python3"
  },
  "language_info": {
   "codemirror_mode": {
    "name": "ipython",
    "version": 3
   },
   "file_extension": ".py",
   "mimetype": "text/x-python",
   "name": "python",
   "nbconvert_exporter": "python",
   "pygments_lexer": "ipython3",
   "version": "3.7.9"
  }
 },
 "nbformat": 4,
 "nbformat_minor": 4
}
